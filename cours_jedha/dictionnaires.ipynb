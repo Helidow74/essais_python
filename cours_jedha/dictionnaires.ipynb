{
 "cells": [
  {
   "cell_type": "code",
   "execution_count": 2,
   "id": "1f000447",
   "metadata": {},
   "outputs": [
    {
     "name": "stdout",
     "output_type": "stream",
     "text": [
      "{'name': 'Lili', 'Amount': 112}\n"
     ]
    }
   ],
   "source": [
    "# Création d'un dictionnaire\n",
    "friend = {\"name\": \"Lili\", \"Amount\": 112}\n",
    "print(friend)"
   ]
  },
  {
   "cell_type": "code",
   "execution_count": 3,
   "id": "a43fc2fb",
   "metadata": {},
   "outputs": [
    {
     "data": {
      "text/plain": [
       "'Lili'"
      ]
     },
     "execution_count": 3,
     "metadata": {},
     "output_type": "execute_result"
    }
   ],
   "source": [
    "# récupération de la valeur d'un clé\n",
    "friend[\"name\"]"
   ]
  },
  {
   "cell_type": "code",
   "execution_count": 4,
   "id": "a02e5e73",
   "metadata": {},
   "outputs": [
    {
     "name": "stdout",
     "output_type": "stream",
     "text": [
      "{'name': 'Lili', 'Amount': 49}\n"
     ]
    }
   ],
   "source": [
    "# modification de la valeur d'une clé\n",
    "friend[\"Amount\"] = 49\n",
    "print(friend)"
   ]
  },
  {
   "cell_type": "code",
   "execution_count": 8,
   "id": "8e1b24d6",
   "metadata": {},
   "outputs": [
    {
     "name": "stdout",
     "output_type": "stream",
     "text": [
      "{'name': 'Lili', 'Amount': 49, 'last_name': 'Dumont'}\n"
     ]
    }
   ],
   "source": [
    "# Ajout d'une clé + valeur\n",
    "friend[\"last_name\"] = \"Dumont\"\n",
    "print(friend)"
   ]
  },
  {
   "cell_type": "code",
   "execution_count": 9,
   "id": "c5f821d5",
   "metadata": {},
   "outputs": [
    {
     "name": "stdout",
     "output_type": "stream",
     "text": [
      "{'name': 'Lili', 'Amount': 49}\n",
      "Dumont\n"
     ]
    }
   ],
   "source": [
    "# Retrait d'un élément du dictionnaire et récupération de sa valeur dans une variable\n",
    "last_name = friend.pop(\"last_name\")\n",
    "print(friend)\n",
    "print(last_name)"
   ]
  },
  {
   "cell_type": "code",
   "execution_count": 10,
   "id": "15549c7c",
   "metadata": {},
   "outputs": [
    {
     "name": "stdout",
     "output_type": "stream",
     "text": [
      "Quels sont les noms de vos amis ? (Séparer les noms avec virgule)Lulu, Marcel, Gigi, George\n",
      "Combien chacun a-t-il dépensé ? (Garder le même ordre que précédemment et séparer avec une virgule)50, 25, 48, 80\n",
      "[{'Name': 'Lulu', 'Amount': '50'}, {'Name': ' Marcel', 'Amount': ' 25'}]\n"
     ]
    }
   ],
   "source": [
    "friends = input(\"Quels sont les noms de vos amis ? (Séparer les noms avec virgule)\")\n",
    "amounts = input(\"Combien chacun a-t-il dépensé ? (Garder le même ordre que précédemment et séparer avec une virgule)\")\n",
    "\n",
    "list_of_friends = friends.split(\",\")\n",
    "list_of_amounts = amounts.split(\",\")\n",
    "\n",
    "friends = [\n",
    "    {\"Name\": list_of_friends[0], \"Amount\": list_of_amounts[0]},\n",
    "    {\"Name\": list_of_friends[1], \"Amount\": list_of_amounts[1]}\n",
    "]\n",
    "\n",
    "print(friends)"
   ]
  },
  {
   "cell_type": "code",
   "execution_count": 25,
   "id": "c4812881",
   "metadata": {},
   "outputs": [
    {
     "name": "stdout",
     "output_type": "stream",
     "text": [
      "['Lulu', ' Marcel', ' Gigi', ' George']\n",
      "['50', ' 25', ' 48', ' 80']\n"
     ]
    }
   ],
   "source": [
    "friends2 = []\n",
    "amounts2 = []\n",
    "for friend in list_of_friends:\n",
    "    friends2.append(friend)\n",
    "\n",
    "for amount in list_of_amounts:\n",
    "    amounts2.append(amount)\n",
    "    \n",
    "print(friends2)\n",
    "print(amounts2)\n"
   ]
  },
  {
   "cell_type": "code",
   "execution_count": 27,
   "id": "ce444902",
   "metadata": {},
   "outputs": [
    {
     "name": "stdout",
     "output_type": "stream",
     "text": [
      "[{'Name': 'Lulu', 'Amount': '50'}, {'Name': ' Marcel', 'Amount': ' 25'}, {'Name': ' Gigi', 'Amount': ' 48'}, {'Name': ' George', 'Amount': ' 80'}]\n"
     ]
    }
   ],
   "source": [
    "list_friends_amounts = []\n",
    "for friend, amount in zip(friends2, amounts2):\n",
    "        list_friends_amounts.append({\"Name\": friend, \"Amount\": amount})\n",
    "    \n",
    "print(list_friends_amounts)"
   ]
  },
  {
   "cell_type": "code",
   "execution_count": 23,
   "id": "0120a778",
   "metadata": {},
   "outputs": [],
   "source": []
  }
 ],
 "metadata": {
  "kernelspec": {
   "display_name": "Python 3 (ipykernel)",
   "language": "python",
   "name": "python3"
  },
  "language_info": {
   "codemirror_mode": {
    "name": "ipython",
    "version": 3
   },
   "file_extension": ".py",
   "mimetype": "text/x-python",
   "name": "python",
   "nbconvert_exporter": "python",
   "pygments_lexer": "ipython3",
   "version": "3.10.12"
  }
 },
 "nbformat": 4,
 "nbformat_minor": 5
}
