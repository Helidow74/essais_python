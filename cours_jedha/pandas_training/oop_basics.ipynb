{
 "cells": [
  {
   "cell_type": "code",
   "execution_count": 1,
   "id": "6c8b15a9",
   "metadata": {},
   "outputs": [],
   "source": [
    "# création d'une classe très basique avec 2 attributs\n",
    "class Basic_math():\n",
    "    a = 10\n",
    "    b = 20"
   ]
  },
  {
   "cell_type": "code",
   "execution_count": 3,
   "id": "97523438",
   "metadata": {},
   "outputs": [],
   "source": [
    "# instanciation de la classe \n",
    "math = Basic_math()"
   ]
  },
  {
   "cell_type": "code",
   "execution_count": 5,
   "id": "8969d305",
   "metadata": {},
   "outputs": [
    {
     "name": "stdout",
     "output_type": "stream",
     "text": [
      "10\n",
      "20\n"
     ]
    }
   ],
   "source": [
    "# accès aux attributs de la classe à partir de l'objet instancié\n",
    "print(math.a)\n",
    "print(math.b)"
   ]
  },
  {
   "cell_type": "code",
   "execution_count": 10,
   "id": "bb79acb4",
   "metadata": {},
   "outputs": [],
   "source": [
    "# On crée une nouvelle classe contenant cette fois-ci deux attributs et une méthode\n",
    "class Basic_math2():\n",
    "    a = 10\n",
    "    b = 20\n",
    "    \n",
    "    def addition(self):\n",
    "        return self.a + self.b"
   ]
  },
  {
   "cell_type": "code",
   "execution_count": 11,
   "id": "334d3dd9",
   "metadata": {},
   "outputs": [],
   "source": [
    "# instanciation de la classe\n",
    "math2 = Basic_math2()"
   ]
  },
  {
   "cell_type": "code",
   "execution_count": 14,
   "id": "3092589e",
   "metadata": {},
   "outputs": [
    {
     "data": {
      "text/plain": [
       "30"
      ]
     },
     "execution_count": 14,
     "metadata": {},
     "output_type": "execute_result"
    }
   ],
   "source": [
    "# accès à la méthode de la classe à partir de l'objet instancié\n",
    "math2.addition()"
   ]
  },
  {
   "cell_type": "code",
   "execution_count": 16,
   "id": "8b75f9b8",
   "metadata": {},
   "outputs": [],
   "source": [
    "# classe avec init() method pour initialiser les attributs\n",
    "class Basic_math3():\n",
    "    \n",
    "    def __init__(self, a, b):\n",
    "        self.a = a\n",
    "        self.b = b\n",
    "        \n",
    "    def addition(self):\n",
    "        return self.a + self.b\n",
    "    \n",
    "\n",
    "        "
   ]
  },
  {
   "cell_type": "code",
   "execution_count": 20,
   "id": "189a2c84",
   "metadata": {},
   "outputs": [
    {
     "data": {
      "text/plain": [
       "25"
      ]
     },
     "execution_count": 20,
     "metadata": {},
     "output_type": "execute_result"
    }
   ],
   "source": [
    "# instanciation de la classe et accès à la méthode :\n",
    "math3 = Basic_math3(5,20)\n",
    "math3.addition()"
   ]
  },
  {
   "cell_type": "code",
   "execution_count": 31,
   "id": "d3798606",
   "metadata": {},
   "outputs": [],
   "source": [
    "class sum_math():\n",
    "    \n",
    "    def __init__(self, numbers_list=[]):\n",
    "        self.numbers_list = numbers_list\n",
    "        \n",
    "    def sum_numbers(self):\n",
    "        somme = 0\n",
    "        for number in self.numbers_list:\n",
    "            somme += number\n",
    "        return somme\n",
    "    "
   ]
  },
  {
   "cell_type": "code",
   "execution_count": 32,
   "id": "16fd8566",
   "metadata": {},
   "outputs": [],
   "source": [
    "liste = [2, 3, 4, 10, 20]\n",
    "new_sum = sum_math(liste)"
   ]
  },
  {
   "cell_type": "code",
   "execution_count": 33,
   "id": "11c291cd",
   "metadata": {},
   "outputs": [
    {
     "data": {
      "text/plain": [
       "39"
      ]
     },
     "execution_count": 33,
     "metadata": {},
     "output_type": "execute_result"
    }
   ],
   "source": [
    "new_sum.sum_numbers()"
   ]
  },
  {
   "cell_type": "code",
   "execution_count": 40,
   "id": "57063fe8",
   "metadata": {},
   "outputs": [],
   "source": [
    "# inheritance\n",
    "# classe mère :\n",
    "class Basic_math():\n",
    "    def __init__(self, a, b):\n",
    "        self.a = a\n",
    "        self.b = b\n",
    "        \n",
    "    def add(self):\n",
    "        return self.a + self.b\n",
    "    \n",
    "    def sub(self):\n",
    "        return self.a - self.b\n",
    "    \n",
    "    \n",
    "        "
   ]
  },
  {
   "cell_type": "code",
   "execution_count": 41,
   "id": "7b7101f1",
   "metadata": {},
   "outputs": [],
   "source": [
    "# classe fille : pas d'init function car on utilise celle de la classe mère (on n'utilise que les attributs de la classe mère)\n",
    "class Complex_math(Basic_math):\n",
    "    def mult(self):\n",
    "        return self.a * self.b\n",
    "    \n",
    "    def div(self):\n",
    "        return self.a / self.b\n",
    "        "
   ]
  },
  {
   "cell_type": "code",
   "execution_count": 42,
   "id": "50dfbfad",
   "metadata": {},
   "outputs": [],
   "source": [
    "# instanciation d'un objet depuis la classe Complex_math (classe fille)\n",
    "math = Complex_math(10, 20)"
   ]
  },
  {
   "cell_type": "code",
   "execution_count": 43,
   "id": "5ba791b4",
   "metadata": {},
   "outputs": [
    {
     "data": {
      "text/plain": [
       "200"
      ]
     },
     "execution_count": 43,
     "metadata": {},
     "output_type": "execute_result"
    }
   ],
   "source": [
    "# j'ai ensuite accès aux méthodes de la classe Complex_math (classe fille)\n",
    "math.mult()"
   ]
  },
  {
   "cell_type": "code",
   "execution_count": 44,
   "id": "ce9f5401",
   "metadata": {},
   "outputs": [
    {
     "data": {
      "text/plain": [
       "30"
      ]
     },
     "execution_count": 44,
     "metadata": {},
     "output_type": "execute_result"
    }
   ],
   "source": [
    "# mais aussi à celles de la classe mère\n",
    "math.add()"
   ]
  },
  {
   "cell_type": "code",
   "execution_count": 45,
   "id": "b3915bde",
   "metadata": {},
   "outputs": [
    {
     "data": {
      "text/plain": [
       "-10"
      ]
     },
     "execution_count": 45,
     "metadata": {},
     "output_type": "execute_result"
    }
   ],
   "source": [
    "math.sub()"
   ]
  },
  {
   "cell_type": "code",
   "execution_count": 46,
   "id": "9b7d2dbc",
   "metadata": {},
   "outputs": [
    {
     "data": {
      "text/plain": [
       "0.5"
      ]
     },
     "execution_count": 46,
     "metadata": {},
     "output_type": "execute_result"
    }
   ],
   "source": [
    "math.div()"
   ]
  },
  {
   "cell_type": "code",
   "execution_count": 64,
   "id": "66cadd0f",
   "metadata": {},
   "outputs": [],
   "source": [
    "# Je peux aussi créer une classe fille avec d'autres attributs que la classe mère en utilisant \"super()\"\n",
    "\n",
    "class Complex_math2(Basic_math):\n",
    "    \n",
    "    def __init__(self, a, b, c):\n",
    "        super().__init__(a, b)  # on utilise super().__init__() pour importer les attributs de la classe mère\n",
    "        self.c = c  # et pouvoir ajouter ensuite des attributs supplémentaires appartenant à la classe fille\n",
    "    \n",
    "    def mult(self):\n",
    "        return self.a * self.b\n",
    "    \n",
    "    def compare(self):\n",
    "        result = self.mult()\n",
    "        \n",
    "        if result > self.c:\n",
    "            print(f\"{self.a}*{self.b} est supérieur à {self.c}\")\n",
    "        elif result == self.c:\n",
    "            print(f\"{self.a}*{self.b} est égal à {self.c}\")\n",
    "        else:\n",
    "            print(f\"{self.a}*{self.b} est inférieur à {self.c}\")\n",
    "        "
   ]
  },
  {
   "cell_type": "code",
   "execution_count": 65,
   "id": "b38c0bce",
   "metadata": {},
   "outputs": [],
   "source": [
    "math2 = Complex_math2(10, 5, 20)"
   ]
  },
  {
   "cell_type": "code",
   "execution_count": 66,
   "id": "9d5973f4",
   "metadata": {},
   "outputs": [
    {
     "data": {
      "text/plain": [
       "50"
      ]
     },
     "execution_count": 66,
     "metadata": {},
     "output_type": "execute_result"
    }
   ],
   "source": [
    "math2.mult()"
   ]
  },
  {
   "cell_type": "code",
   "execution_count": 67,
   "id": "0e02b843",
   "metadata": {},
   "outputs": [
    {
     "name": "stdout",
     "output_type": "stream",
     "text": [
      "10*5 est supérieur à 20\n"
     ]
    }
   ],
   "source": [
    "math2.compare()"
   ]
  },
  {
   "cell_type": "markdown",
   "id": "0583cc80",
   "metadata": {},
   "source": []
  }
 ],
 "metadata": {
  "kernelspec": {
   "display_name": "Python 3 (ipykernel)",
   "language": "python",
   "name": "python3"
  },
  "language_info": {
   "codemirror_mode": {
    "name": "ipython",
    "version": 3
   },
   "file_extension": ".py",
   "mimetype": "text/x-python",
   "name": "python",
   "nbconvert_exporter": "python",
   "pygments_lexer": "ipython3",
   "version": "3.10.12"
  }
 },
 "nbformat": 4,
 "nbformat_minor": 5
}
