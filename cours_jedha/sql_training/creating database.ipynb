{
 "cells": [
  {
   "cell_type": "code",
   "execution_count": 11,
   "id": "1596daa4",
   "metadata": {},
   "outputs": [],
   "source": [
    "# !pip install pymysql\n"
   ]
  },
  {
   "cell_type": "code",
   "execution_count": 4,
   "id": "9b8f593d",
   "metadata": {},
   "outputs": [],
   "source": [
    "import pymysql"
   ]
  },
  {
   "cell_type": "code",
   "execution_count": 5,
   "id": "db958d10",
   "metadata": {},
   "outputs": [],
   "source": [
    "# création d'un connexion object\n",
    "conn = pymysql.connect(host=\"localhost\", port=3306, user=\"lanacroft\", password=\"74Shawie74!\", db=\"sys\")"
   ]
  },
  {
   "cell_type": "markdown",
   "id": "23b5f27c",
   "metadata": {},
   "source": [
    "#### ATTENTION ! Si on rencontre des problèmes lors de la création de l'objet \"conn\", il faut créer un nouveau superutilisateur dans la console. \n",
    "1. sudo mysql -u root -p\n",
    "2. on entre le mdp de sudo\n",
    "3. on entre le mdp de mysql (74Shawie74!)\n",
    "4. on est alors connecté à mysql dans la console\n",
    "5. on crée un nouveau user :\n",
    "    CREATE USER 'nom_user'@'localhost' IDENTIFIED BY 'mdp_user';\n",
    "6. On lui attribue tous les privilèges (dans le cas d'un superutilisateur uniquement):\n",
    "    GRANT ALL ON *.* TO 'nom_user'@'localhost' WITH GRANT OPTION;\n",
    "7. le nouveau superutilisateur est créé et on peut utiliser les infos de connexion user et password dans le \"conn\""
   ]
  },
  {
   "cell_type": "code",
   "execution_count": 6,
   "id": "0068a7bd",
   "metadata": {},
   "outputs": [],
   "source": [
    "# on crée un curseur en utilisant le connexion object créé ci-dessus\n",
    "cursor = conn.cursor()"
   ]
  },
  {
   "cell_type": "code",
   "execution_count": 5,
   "id": "ad50dae7",
   "metadata": {},
   "outputs": [
    {
     "data": {
      "text/plain": [
       "1"
      ]
     },
     "execution_count": 5,
     "metadata": {},
     "output_type": "execute_result"
    }
   ],
   "source": [
    "# on crée une bdd nommée testdb2\n",
    "cursor.execute(\"CREATE DATABASE IF NOT EXISTS testdb2;\")"
   ]
  },
  {
   "cell_type": "code",
   "execution_count": 6,
   "id": "62d7dfb2",
   "metadata": {},
   "outputs": [
    {
     "data": {
      "text/plain": [
       "1"
      ]
     },
     "execution_count": 6,
     "metadata": {},
     "output_type": "execute_result"
    }
   ],
   "source": [
    "cursor.execute(\"CREATE DATABASE IF NOT EXISTS testdb;\")"
   ]
  },
  {
   "cell_type": "code",
   "execution_count": 7,
   "id": "81bae6fd",
   "metadata": {},
   "outputs": [
    {
     "data": {
      "text/plain": [
       "11"
      ]
     },
     "execution_count": 7,
     "metadata": {},
     "output_type": "execute_result"
    }
   ],
   "source": [
    "# si on utilise SHOW DATABASES, on obtient le nombre de bdd existantes dans le curseur mais pas de liste de bdd\n",
    "cursor.execute(\"SHOW DATABASES;\")"
   ]
  },
  {
   "cell_type": "code",
   "execution_count": 8,
   "id": "226c9fc4",
   "metadata": {},
   "outputs": [
    {
     "data": {
      "text/plain": [
       "(('foodly',),\n",
       " ('foodly2',),\n",
       " ('information_schema',),\n",
       " ('moviz',),\n",
       " ('moviz2',),\n",
       " ('mysql',),\n",
       " ('performance_schema',),\n",
       " ('school',),\n",
       " ('sys',),\n",
       " ('testdb',),\n",
       " ('testdb2',))"
      ]
     },
     "execution_count": 8,
     "metadata": {},
     "output_type": "execute_result"
    }
   ],
   "source": [
    "# pour obtenir une liste de bdd, il faut utiliser ensuite, une commande \"fetch\"\n",
    "# il existe 3 types de commandes fetch :\n",
    "# - cursor.fetchone() pour renvoyer un seul résultat\n",
    "# - cursor.fetchmany(10) pour renvoyer, ici, 10 résultats\n",
    "# - cursor.fetchall() pour renvoyer tous les résultats\n",
    "# on peut aussi utiliser list(cursor) pour récupérer tout ce qu'il y a dans le curseur\n",
    "\n",
    "# ici on va utiliser fetchall pour voir toutes les bdd\n",
    "cursor.fetchall()\n",
    "\n"
   ]
  },
  {
   "cell_type": "code",
   "execution_count": 9,
   "id": "f0a5e7c4",
   "metadata": {},
   "outputs": [
    {
     "data": {
      "text/plain": [
       "0"
      ]
     },
     "execution_count": 9,
     "metadata": {},
     "output_type": "execute_result"
    }
   ],
   "source": [
    "# on supprime la bdd testdb2 avec DROP DATABASE\n",
    "\n",
    "cursor.execute(\"DROP DATABASE testdb2;\")"
   ]
  },
  {
   "cell_type": "code",
   "execution_count": 10,
   "id": "8470c393",
   "metadata": {},
   "outputs": [
    {
     "data": {
      "text/plain": [
       "(('foodly',),\n",
       " ('foodly2',),\n",
       " ('information_schema',),\n",
       " ('moviz',),\n",
       " ('moviz2',),\n",
       " ('mysql',),\n",
       " ('performance_schema',),\n",
       " ('school',),\n",
       " ('sys',),\n",
       " ('testdb',))"
      ]
     },
     "execution_count": 10,
     "metadata": {},
     "output_type": "execute_result"
    }
   ],
   "source": [
    "cursor.execute(\"SHOW DATABASES;\")\n",
    "cursor.fetchall()"
   ]
  },
  {
   "cell_type": "code",
   "execution_count": 7,
   "id": "5dd31348",
   "metadata": {},
   "outputs": [
    {
     "data": {
      "text/plain": [
       "0"
      ]
     },
     "execution_count": 7,
     "metadata": {},
     "output_type": "execute_result"
    }
   ],
   "source": [
    "# on choisit la bdd à utiliser\n",
    "cursor.execute(\"USE testdb;\")"
   ]
  },
  {
   "cell_type": "code",
   "execution_count": 8,
   "id": "5e55f385",
   "metadata": {},
   "outputs": [
    {
     "data": {
      "text/plain": [
       "0"
      ]
     },
     "execution_count": 8,
     "metadata": {},
     "output_type": "execute_result"
    }
   ],
   "source": [
    "# on crée la table person en utilisant une variable person_table et ''' ''' pour que ce soit plus lisible\n",
    "person_table = '''CREATE TABLE IF NOT EXISTS person (\n",
    "person_id MEDIUMINT UNSIGNED,\n",
    "first_name VARCHAR(50),\n",
    "last_name VARCHAR(50),\n",
    "age TINYINT UNSIGNED,\n",
    "marital_status TINYINT(1),\n",
    "country VARCHAR(75),\n",
    "PRIMARY KEY(person_id)\n",
    ");'''\n",
    "\n",
    "# on exécute la requête person_table\n",
    "cursor.execute(person_table)"
   ]
  },
  {
   "cell_type": "code",
   "execution_count": 39,
   "id": "a4efed47",
   "metadata": {},
   "outputs": [
    {
     "data": {
      "text/plain": [
       "(('person_id', 'mediumint unsigned', 'NO', 'PRI', None, ''),\n",
       " ('first_name', 'varchar(50)', 'YES', '', None, ''),\n",
       " ('last_name', 'varchar(50)', 'YES', '', None, ''),\n",
       " ('age', 'tinyint unsigned', 'YES', '', None, ''),\n",
       " ('marital_status', 'tinyint(1)', 'YES', '', None, ''),\n",
       " ('country', 'varchar(75)', 'YES', '', None, ''))"
      ]
     },
     "execution_count": 39,
     "metadata": {},
     "output_type": "execute_result"
    }
   ],
   "source": [
    "# pour vérifier les colonnes de la table on utilise la commande DESC (=describe) puis fetchall pour afficher\n",
    "cursor.execute(\"DESC person;\")\n",
    "cursor.fetchall()\n"
   ]
  },
  {
   "cell_type": "code",
   "execution_count": 9,
   "id": "7eaf432e",
   "metadata": {},
   "outputs": [
    {
     "data": {
      "text/plain": [
       "1"
      ]
     },
     "execution_count": 9,
     "metadata": {},
     "output_type": "execute_result"
    }
   ],
   "source": [
    "# on va insérer une ligne dans notre bdd person\n",
    "# on crée une variable avec la requête :\n",
    "one_row = '''INSERT INTO person (\n",
    "person_id, first_name, last_name, age, marital_status, country)\n",
    "VALUES(6, \"Betty\", \"Doe\", 21, 1, \"United States\");'''\n",
    "\n",
    "# ATTENTION : si on insère bien une valeur dans chaque colonne et dans l'ordre, on n'est pas obligés de donner\n",
    "# les noms des colonnes.\n",
    "# on peut simplement faire INSERT INTO person VALUES(1, \"John\", \"smith\", 23, 0, \"United States\");\n",
    "\n",
    "# on exécute la requête :\n",
    "cursor.execute(one_row)"
   ]
  },
  {
   "cell_type": "code",
   "execution_count": 12,
   "id": "c09fbc50",
   "metadata": {},
   "outputs": [
    {
     "data": {
      "text/plain": [
       "2"
      ]
     },
     "execution_count": 12,
     "metadata": {},
     "output_type": "execute_result"
    }
   ],
   "source": [
    "# si on veut insérer plusieurs entrées :\n",
    "mult_rows = '''INSERT INTO person\n",
    "VALUES(2, 'Mark', 'Adams', 53, 1, 'France'),\n",
    "      (3, 'Jack', 'Perry', 18, 0, 'England');'''\n",
    "\n",
    "cursor.execute(mult_rows)"
   ]
  },
  {
   "cell_type": "code",
   "execution_count": 42,
   "id": "0de37241",
   "metadata": {},
   "outputs": [],
   "source": [
    "# cursor.execute(\"SELECT * FROM person;\")"
   ]
  },
  {
   "cell_type": "code",
   "execution_count": 13,
   "id": "56414c1e",
   "metadata": {},
   "outputs": [
    {
     "data": {
      "text/plain": [
       "0"
      ]
     },
     "execution_count": 13,
     "metadata": {},
     "output_type": "execute_result"
    }
   ],
   "source": [
    "# update table : changement de données déjà existantes\n",
    "cursor.execute(\"UPDATE person SET marital_status = 1 WHERE person_id = 5;\")"
   ]
  },
  {
   "cell_type": "code",
   "execution_count": 14,
   "id": "08943832",
   "metadata": {},
   "outputs": [
    {
     "data": {
      "text/plain": [
       "1"
      ]
     },
     "execution_count": 14,
     "metadata": {},
     "output_type": "execute_result"
    }
   ],
   "source": [
    "cursor.execute(\"UPDATE person SET country = 'United States' WHERE person_id = 4;\")"
   ]
  },
  {
   "cell_type": "code",
   "execution_count": 15,
   "id": "825c666c",
   "metadata": {},
   "outputs": [
    {
     "data": {
      "text/plain": [
       "1"
      ]
     },
     "execution_count": 15,
     "metadata": {},
     "output_type": "execute_result"
    }
   ],
   "source": [
    "cursor.execute(\"UPDATE person SET country = 'USA' WHERE country = 'United States';\")"
   ]
  },
  {
   "cell_type": "code",
   "execution_count": 16,
   "id": "6789e08b",
   "metadata": {},
   "outputs": [
    {
     "data": {
      "text/plain": [
       "1"
      ]
     },
     "execution_count": 16,
     "metadata": {},
     "output_type": "execute_result"
    }
   ],
   "source": [
    "cursor.execute(\"UPDATE person SET marital_status = 0, country = 'Italy' WHERE person_id = 4;\")"
   ]
  },
  {
   "cell_type": "code",
   "execution_count": 17,
   "id": "fb181de9",
   "metadata": {},
   "outputs": [
    {
     "data": {
      "text/plain": [
       "((1, 'John', 'smith', 23, 0, 'USA'),\n",
       " (2, 'Mark', 'Adams', 53, 1, 'France'),\n",
       " (3, 'Jack', 'Perry', 18, 0, 'England'),\n",
       " (4, 'Mary', 'Adams', 53, 0, 'Italy'),\n",
       " (5, 'Luke', 'Perry', 18, 1, 'England'),\n",
       " (6, 'Betty', 'Doe', 21, 1, 'USA'))"
      ]
     },
     "execution_count": 17,
     "metadata": {},
     "output_type": "execute_result"
    }
   ],
   "source": [
    "requete = \"SELECT * FROM person;\"\n",
    "cursor.execute(requete)\n",
    "cursor.fetchall()"
   ]
  },
  {
   "cell_type": "code",
   "execution_count": 35,
   "id": "c47c7488",
   "metadata": {},
   "outputs": [
    {
     "data": {
      "text/plain": [
       "1"
      ]
     },
     "execution_count": 35,
     "metadata": {},
     "output_type": "execute_result"
    }
   ],
   "source": [
    "# cursor.execute(\"DROP DATABASE testdb;\")"
   ]
  },
  {
   "cell_type": "markdown",
   "id": "7adfcff9",
   "metadata": {},
   "source": [
    "### EXERCICE : créer une bdd school et une table students"
   ]
  },
  {
   "cell_type": "code",
   "execution_count": 23,
   "id": "ed522604",
   "metadata": {},
   "outputs": [
    {
     "data": {
      "text/plain": [
       "1"
      ]
     },
     "execution_count": 23,
     "metadata": {},
     "output_type": "execute_result"
    }
   ],
   "source": [
    "cursor.execute(\"CREATE DATABASE IF NOT EXISTS school;\")"
   ]
  },
  {
   "cell_type": "code",
   "execution_count": 24,
   "id": "2e7e3e9a",
   "metadata": {},
   "outputs": [
    {
     "data": {
      "text/plain": [
       "0"
      ]
     },
     "execution_count": 24,
     "metadata": {},
     "output_type": "execute_result"
    }
   ],
   "source": [
    "cursor.execute(\"USE school;\")"
   ]
  },
  {
   "cell_type": "code",
   "execution_count": 25,
   "id": "3161a207",
   "metadata": {},
   "outputs": [],
   "source": [
    "student_table = '''CREATE TABLE IF NOT EXISTS students(\n",
    "student_id MEDIUMINT UNSIGNED,\n",
    "first_name VARCHAR(50),\n",
    "last_name VARCHAR(50),\n",
    "address TEXT,\n",
    "state CHAR(2),\n",
    "date_of_birth DATE,\n",
    "phone_number BIGINT,\n",
    "gender ENUM('male', 'female'),\n",
    "PRIMARY KEY(student_id)\n",
    ");'''"
   ]
  },
  {
   "cell_type": "code",
   "execution_count": 26,
   "id": "2af996bc",
   "metadata": {},
   "outputs": [
    {
     "data": {
      "text/plain": [
       "0"
      ]
     },
     "execution_count": 26,
     "metadata": {},
     "output_type": "execute_result"
    }
   ],
   "source": [
    "cursor.execute(student_table)"
   ]
  },
  {
   "cell_type": "code",
   "execution_count": 30,
   "id": "5a1d4c5f",
   "metadata": {},
   "outputs": [
    {
     "data": {
      "text/plain": [
       "(('student_id', 'mediumint unsigned', 'NO', 'PRI', None, ''),\n",
       " ('first_name', 'varchar(50)', 'YES', '', None, ''),\n",
       " ('last_name', 'varchar(50)', 'YES', '', None, ''),\n",
       " ('address', 'text', 'YES', '', None, ''),\n",
       " ('state', 'char(2)', 'YES', '', None, ''),\n",
       " ('date_of_birth', 'date', 'YES', '', None, ''),\n",
       " ('phone_number', 'bigint', 'YES', '', None, ''),\n",
       " ('gender', \"enum('male','female')\", 'YES', '', None, ''))"
      ]
     },
     "execution_count": 30,
     "metadata": {},
     "output_type": "execute_result"
    }
   ],
   "source": [
    "# vérification des colonnes datatypes de la table\n",
    "cursor.execute(\"DESC students;\")\n",
    "cursor.fetchall()"
   ]
  },
  {
   "cell_type": "code",
   "execution_count": 31,
   "id": "9c8ccb63",
   "metadata": {},
   "outputs": [
    {
     "data": {
      "text/plain": [
       "4"
      ]
     },
     "execution_count": 31,
     "metadata": {},
     "output_type": "execute_result"
    }
   ],
   "source": [
    "# insérer 4 lignes d'étudiants dans la table\n",
    "mult_students = '''INSERT INTO students VALUES\n",
    "(1, \"Luke\", \"Perry\", '3 avenue of roses', \"AL\", \"1997-09-15\", 060503458564, \"male\"),\n",
    "(2, \"Mary\", \"Perry\", '3 avenue of roses', \"AL\", \"1999-04-21\", 060503748974, \"female\"),\n",
    "(3, \"George\", \"Kennedy\", '45 sunset boulevard avenue', \"CA\", \"1977-02-09\", 060868858564, \"male\"),\n",
    "(4, \"Lucy\", \"Jameson\", '745 5th avenue', \"NY\", \"2000-05-12\", 068977034564, \"female\");\n",
    "'''\n",
    "cursor.execute(mult_students)"
   ]
  },
  {
   "cell_type": "code",
   "execution_count": 32,
   "id": "ba0f7c22",
   "metadata": {},
   "outputs": [
    {
     "data": {
      "text/plain": [
       "(('foodly',),\n",
       " ('foodly2',),\n",
       " ('information_schema',),\n",
       " ('moviz',),\n",
       " ('moviz2',),\n",
       " ('mysql',),\n",
       " ('performance_schema',),\n",
       " ('school',),\n",
       " ('sys',),\n",
       " ('testdb',))"
      ]
     },
     "execution_count": 32,
     "metadata": {},
     "output_type": "execute_result"
    }
   ],
   "source": [
    "cursor.execute(\"SHOW DATABASES;\")\n",
    "cursor.fetchall()"
   ]
  },
  {
   "cell_type": "code",
   "execution_count": 33,
   "id": "885f9d90",
   "metadata": {},
   "outputs": [],
   "source": [
    "# cursor.execute(\"DROP TABLE students;\")"
   ]
  },
  {
   "cell_type": "code",
   "execution_count": 34,
   "id": "777a9289",
   "metadata": {},
   "outputs": [
    {
     "data": {
      "text/plain": [
       "1"
      ]
     },
     "execution_count": 34,
     "metadata": {},
     "output_type": "execute_result"
    }
   ],
   "source": [
    "update_student = \"UPDATE students SET address = '40 sunset boulevard avenue', state = 'NY' WHERE student_id = 3;\"\n",
    "cursor.execute(update_student)"
   ]
  },
  {
   "cell_type": "code",
   "execution_count": 35,
   "id": "91720807",
   "metadata": {},
   "outputs": [
    {
     "data": {
      "text/plain": [
       "((1,\n",
       "  'Luke',\n",
       "  'Perry',\n",
       "  '3 avenue of roses',\n",
       "  'AL',\n",
       "  datetime.date(1997, 9, 15),\n",
       "  60503458564,\n",
       "  'male'),\n",
       " (2,\n",
       "  'Mary',\n",
       "  'Perry',\n",
       "  '3 avenue of roses',\n",
       "  'AL',\n",
       "  datetime.date(1999, 4, 21),\n",
       "  60503748974,\n",
       "  'female'),\n",
       " (3,\n",
       "  'George',\n",
       "  'Kennedy',\n",
       "  '40 sunset boulevard avenue',\n",
       "  'NY',\n",
       "  datetime.date(1977, 2, 9),\n",
       "  60868858564,\n",
       "  'male'),\n",
       " (4,\n",
       "  'Lucy',\n",
       "  'Jameson',\n",
       "  '745 5th avenue',\n",
       "  'NY',\n",
       "  datetime.date(2000, 5, 12),\n",
       "  68977034564,\n",
       "  'female'))"
      ]
     },
     "execution_count": 35,
     "metadata": {},
     "output_type": "execute_result"
    }
   ],
   "source": [
    "requete = \"SELECT * FROM students;\"\n",
    "cursor.execute(requete)\n",
    "cursor.fetchall()"
   ]
  },
  {
   "cell_type": "code",
   "execution_count": null,
   "id": "a7b89578",
   "metadata": {},
   "outputs": [],
   "source": []
  },
  {
   "cell_type": "code",
   "execution_count": null,
   "id": "279a995b",
   "metadata": {},
   "outputs": [],
   "source": []
  },
  {
   "cell_type": "markdown",
   "id": "3c523f02",
   "metadata": {},
   "source": [
    "**FIN DE L'EXERCICE**"
   ]
  },
  {
   "cell_type": "code",
   "execution_count": null,
   "id": "486f93aa",
   "metadata": {},
   "outputs": [],
   "source": []
  },
  {
   "cell_type": "code",
   "execution_count": null,
   "id": "8b3f3029",
   "metadata": {},
   "outputs": [],
   "source": []
  },
  {
   "cell_type": "code",
   "execution_count": null,
   "id": "297ce420",
   "metadata": {},
   "outputs": [],
   "source": []
  },
  {
   "cell_type": "code",
   "execution_count": null,
   "id": "4653bf18",
   "metadata": {},
   "outputs": [],
   "source": []
  },
  {
   "cell_type": "code",
   "execution_count": 18,
   "id": "b4f6332e",
   "metadata": {},
   "outputs": [],
   "source": [
    "# ATTENTION ! Toujours penser à fermer la connexion pour des questions de sécurité et de performances du serveur\n",
    "\n",
    "conn.close()"
   ]
  },
  {
   "cell_type": "code",
   "execution_count": null,
   "id": "20ac78cb",
   "metadata": {},
   "outputs": [],
   "source": []
  },
  {
   "cell_type": "code",
   "execution_count": null,
   "id": "fa1c8c4c",
   "metadata": {},
   "outputs": [],
   "source": []
  },
  {
   "cell_type": "code",
   "execution_count": null,
   "id": "325fe268",
   "metadata": {},
   "outputs": [],
   "source": []
  }
 ],
 "metadata": {
  "kernelspec": {
   "display_name": "Python 3 (ipykernel)",
   "language": "python",
   "name": "python3"
  },
  "language_info": {
   "codemirror_mode": {
    "name": "ipython",
    "version": 3
   },
   "file_extension": ".py",
   "mimetype": "text/x-python",
   "name": "python",
   "nbconvert_exporter": "python",
   "pygments_lexer": "ipython3",
   "version": "3.10.12"
  }
 },
 "nbformat": 4,
 "nbformat_minor": 5
}
