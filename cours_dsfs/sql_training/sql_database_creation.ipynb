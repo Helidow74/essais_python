{
 "cells": [
  {
   "cell_type": "code",
   "execution_count": 11,
   "id": "1596daa4",
   "metadata": {},
   "outputs": [],
   "source": [
    "# !pip install pymysql\n"
   ]
  },
  {
   "cell_type": "code",
   "execution_count": 1,
   "id": "9b8f593d",
   "metadata": {},
   "outputs": [],
   "source": [
    "import pymysql"
   ]
  },
  {
   "cell_type": "code",
   "execution_count": 2,
   "id": "db958d10",
   "metadata": {},
   "outputs": [],
   "source": [
    "# création d'un connexion object\n",
    "conn = pymysql.connect(host=\"localhost\", port=3306, user=\"user_name\", password=\"pwd\", db=\"sys\")"
   ]
  },
  {
   "cell_type": "markdown",
   "id": "23b5f27c",
   "metadata": {},
   "source": [
    "#### ATTENTION ! Si on rencontre des problèmes lors de la création de l'objet \"conn\", il faut créer un nouveau superutilisateur dans la console. \n",
    "1. sudo mysql -u root -p\n",
    "2. on entre le mdp de sudo\n",
    "3. on entre le mdp de mysql\n",
    "4. on est alors connecté à mysql dans la console\n",
    "5. on crée un nouveau user :\n",
    "    CREATE USER 'nom_user'@'localhost' IDENTIFIED BY 'mdp_user';\n",
    "6. On lui attribue tous les privilèges (dans le cas d'un superutilisateur uniquement):\n",
    "    GRANT ALL ON *.* TO 'nom_user'@'localhost' WITH GRANT OPTION;\n",
    "7. le nouveau superutilisateur est créé et on peut utiliser les infos de connexion user et password dans le \"conn\""
   ]
  },
  {
   "cell_type": "code",
   "execution_count": 3,
   "id": "0068a7bd",
   "metadata": {},
   "outputs": [],
   "source": [
    "# on crée un curseur en utilisant le connexion object créé ci-dessus\n",
    "cursor = conn.cursor()"
   ]
  },
  {
   "cell_type": "code",
   "execution_count": 4,
   "id": "ad50dae7",
   "metadata": {},
   "outputs": [
    {
     "data": {
      "text/plain": [
       "1"
      ]
     },
     "execution_count": 4,
     "metadata": {},
     "output_type": "execute_result"
    }
   ],
   "source": [
    "# on crée une bdd nommée testdb2\n",
    "cursor.execute(\"CREATE DATABASE IF NOT EXISTS testdb2;\")"
   ]
  },
  {
   "cell_type": "code",
   "execution_count": 5,
   "id": "62d7dfb2",
   "metadata": {},
   "outputs": [
    {
     "data": {
      "text/plain": [
       "1"
      ]
     },
     "execution_count": 5,
     "metadata": {},
     "output_type": "execute_result"
    }
   ],
   "source": [
    "cursor.execute(\"CREATE DATABASE IF NOT EXISTS testdb;\")"
   ]
  },
  {
   "cell_type": "code",
   "execution_count": 6,
   "id": "81bae6fd",
   "metadata": {},
   "outputs": [
    {
     "data": {
      "text/plain": [
       "11"
      ]
     },
     "execution_count": 6,
     "metadata": {},
     "output_type": "execute_result"
    }
   ],
   "source": [
    "# si on utilise SHOW DATABASES, on obtient le nombre de bdd existantes dans le curseur mais pas de liste de bdd\n",
    "cursor.execute(\"SHOW DATABASES;\")"
   ]
  },
  {
   "cell_type": "code",
   "execution_count": 7,
   "id": "226c9fc4",
   "metadata": {},
   "outputs": [
    {
     "data": {
      "text/plain": [
       "(('foodly',),\n",
       " ('foodly2',),\n",
       " ('information_schema',),\n",
       " ('moviz',),\n",
       " ('moviz2',),\n",
       " ('mysql',),\n",
       " ('performance_schema',),\n",
       " ('school',),\n",
       " ('sys',),\n",
       " ('testdb',),\n",
       " ('testdb2',))"
      ]
     },
     "execution_count": 7,
     "metadata": {},
     "output_type": "execute_result"
    }
   ],
   "source": [
    "# pour obtenir une liste de bdd, il faut utiliser ensuite, une commande \"fetch\"\n",
    "# il existe 3 types de commandes fetch :\n",
    "# - cursor.fetchone() pour renvoyer un seul résultat\n",
    "# - cursor.fetchmany(10) pour renvoyer, ici, 10 résultats\n",
    "# - cursor.fetchall() pour renvoyer tous les résultats\n",
    "# on peut aussi utiliser list(cursor) pour récupérer tout ce qu'il y a dans le curseur\n",
    "\n",
    "# ici on va utiliser fetchall pour voir toutes les bdd\n",
    "cursor.fetchall()\n",
    "\n"
   ]
  },
  {
   "cell_type": "code",
   "execution_count": 8,
   "id": "f0a5e7c4",
   "metadata": {},
   "outputs": [
    {
     "data": {
      "text/plain": [
       "0"
      ]
     },
     "execution_count": 8,
     "metadata": {},
     "output_type": "execute_result"
    }
   ],
   "source": [
    "# on supprime la bdd testdb2 avec DROP DATABASE\n",
    "\n",
    "cursor.execute(\"DROP DATABASE testdb2;\")"
   ]
  },
  {
   "cell_type": "code",
   "execution_count": 9,
   "id": "8470c393",
   "metadata": {},
   "outputs": [
    {
     "data": {
      "text/plain": [
       "(('foodly',),\n",
       " ('foodly2',),\n",
       " ('information_schema',),\n",
       " ('moviz',),\n",
       " ('moviz2',),\n",
       " ('mysql',),\n",
       " ('performance_schema',),\n",
       " ('school',),\n",
       " ('sys',),\n",
       " ('testdb',))"
      ]
     },
     "execution_count": 9,
     "metadata": {},
     "output_type": "execute_result"
    }
   ],
   "source": [
    "cursor.execute(\"SHOW DATABASES;\")\n",
    "cursor.fetchall()"
   ]
  },
  {
   "cell_type": "code",
   "execution_count": 10,
   "id": "5dd31348",
   "metadata": {},
   "outputs": [
    {
     "data": {
      "text/plain": [
       "0"
      ]
     },
     "execution_count": 10,
     "metadata": {},
     "output_type": "execute_result"
    }
   ],
   "source": [
    "# on choisit la bdd à utiliser\n",
    "cursor.execute(\"USE testdb;\")"
   ]
  },
  {
   "cell_type": "code",
   "execution_count": 11,
   "id": "5e55f385",
   "metadata": {},
   "outputs": [
    {
     "data": {
      "text/plain": [
       "0"
      ]
     },
     "execution_count": 11,
     "metadata": {},
     "output_type": "execute_result"
    }
   ],
   "source": [
    "# on crée la table person en utilisant une variable person_table et ''' ''' pour que ce soit plus lisible\n",
    "person_table = '''CREATE TABLE IF NOT EXISTS person (\n",
    "person_id MEDIUMINT UNSIGNED,\n",
    "first_name VARCHAR(50),\n",
    "last_name VARCHAR(50),\n",
    "age TINYINT UNSIGNED,\n",
    "marital_status TINYINT(1),\n",
    "country VARCHAR(75),\n",
    "PRIMARY KEY(person_id)\n",
    ");'''\n",
    "\n",
    "# on exécute la requête person_table\n",
    "cursor.execute(person_table)"
   ]
  },
  {
   "cell_type": "code",
   "execution_count": 12,
   "id": "a4efed47",
   "metadata": {},
   "outputs": [
    {
     "data": {
      "text/plain": [
       "(('person_id', 'mediumint unsigned', 'NO', 'PRI', None, ''),\n",
       " ('first_name', 'varchar(50)', 'YES', '', None, ''),\n",
       " ('last_name', 'varchar(50)', 'YES', '', None, ''),\n",
       " ('age', 'tinyint unsigned', 'YES', '', None, ''),\n",
       " ('marital_status', 'tinyint(1)', 'YES', '', None, ''),\n",
       " ('country', 'varchar(75)', 'YES', '', None, ''))"
      ]
     },
     "execution_count": 12,
     "metadata": {},
     "output_type": "execute_result"
    }
   ],
   "source": [
    "# pour vérifier les colonnes de la table on utilise la commande DESC (=describe) puis fetchall pour afficher\n",
    "cursor.execute(\"DESC person;\")\n",
    "cursor.fetchall()\n"
   ]
  },
  {
   "cell_type": "code",
   "execution_count": 13,
   "id": "7eaf432e",
   "metadata": {},
   "outputs": [
    {
     "data": {
      "text/plain": [
       "1"
      ]
     },
     "execution_count": 13,
     "metadata": {},
     "output_type": "execute_result"
    }
   ],
   "source": [
    "# on va insérer une ligne dans notre bdd person\n",
    "# on crée une variable avec la requête :\n",
    "one_row = '''INSERT INTO person (\n",
    "person_id, first_name, last_name, age, marital_status, country)\n",
    "VALUES(6, \"Betty\", \"Doe\", 21, 1, \"United States\");'''\n",
    "\n",
    "# ATTENTION : si on insère bien une valeur dans chaque colonne et dans l'ordre, on n'est pas obligés de donner\n",
    "# les noms des colonnes.\n",
    "# on peut simplement faire INSERT INTO person VALUES(1, \"John\", \"smith\", 23, 0, \"United States\");\n",
    "\n",
    "# on exécute la requête :\n",
    "cursor.execute(one_row)"
   ]
  },
  {
   "cell_type": "code",
   "execution_count": 14,
   "id": "c09fbc50",
   "metadata": {},
   "outputs": [
    {
     "data": {
      "text/plain": [
       "2"
      ]
     },
     "execution_count": 14,
     "metadata": {},
     "output_type": "execute_result"
    }
   ],
   "source": [
    "# si on veut insérer plusieurs entrées :\n",
    "mult_rows = '''INSERT INTO person\n",
    "VALUES(2, 'Mark', 'Adams', 53, 1, 'France'),\n",
    "      (3, 'Jack', 'Perry', 18, 0, 'England');'''\n",
    "\n",
    "cursor.execute(mult_rows)"
   ]
  },
  {
   "cell_type": "code",
   "execution_count": 15,
   "id": "0de37241",
   "metadata": {},
   "outputs": [],
   "source": [
    "# cursor.execute(\"SELECT * FROM person;\")"
   ]
  },
  {
   "cell_type": "code",
   "execution_count": 20,
   "id": "56414c1e",
   "metadata": {},
   "outputs": [
    {
     "data": {
      "text/plain": [
       "1"
      ]
     },
     "execution_count": 20,
     "metadata": {},
     "output_type": "execute_result"
    }
   ],
   "source": [
    "# update table : changement de données déjà existantes\n",
    "cursor.execute(\"UPDATE person SET marital_status = 0 WHERE person_id = 5;\")"
   ]
  },
  {
   "cell_type": "code",
   "execution_count": 21,
   "id": "08943832",
   "metadata": {},
   "outputs": [
    {
     "data": {
      "text/plain": [
       "1"
      ]
     },
     "execution_count": 21,
     "metadata": {},
     "output_type": "execute_result"
    }
   ],
   "source": [
    "cursor.execute(\"UPDATE person SET country = 'United States' WHERE person_id = 4;\")"
   ]
  },
  {
   "cell_type": "code",
   "execution_count": 22,
   "id": "825c666c",
   "metadata": {},
   "outputs": [
    {
     "data": {
      "text/plain": [
       "1"
      ]
     },
     "execution_count": 22,
     "metadata": {},
     "output_type": "execute_result"
    }
   ],
   "source": [
    "cursor.execute(\"UPDATE person SET country = 'USA' WHERE country = 'United States';\")"
   ]
  },
  {
   "cell_type": "code",
   "execution_count": 23,
   "id": "6789e08b",
   "metadata": {},
   "outputs": [
    {
     "data": {
      "text/plain": [
       "1"
      ]
     },
     "execution_count": 23,
     "metadata": {},
     "output_type": "execute_result"
    }
   ],
   "source": [
    "cursor.execute(\"UPDATE person SET marital_status = 0, country = 'Italy' WHERE person_id = 4;\")"
   ]
  },
  {
   "cell_type": "code",
   "execution_count": 24,
   "id": "fb181de9",
   "metadata": {},
   "outputs": [
    {
     "data": {
      "text/plain": [
       "((1, 'John', 'smith', 23, 0, 'USA'),\n",
       " (2, 'Mark', 'Adams', 53, 1, 'France'),\n",
       " (3, 'Jack', 'Perry', 18, 0, 'England'),\n",
       " (4, 'Mary', 'Adams', 53, 0, 'Italy'),\n",
       " (5, 'Luke', 'Perry', 18, 0, 'England'),\n",
       " (6, 'Betty', 'Doe', 21, 1, 'USA'))"
      ]
     },
     "execution_count": 24,
     "metadata": {},
     "output_type": "execute_result"
    }
   ],
   "source": [
    "requete = \"SELECT * FROM person;\"\n",
    "cursor.execute(requete)\n",
    "cursor.fetchall()"
   ]
  },
  {
   "cell_type": "code",
   "execution_count": 45,
   "id": "349ab678",
   "metadata": {},
   "outputs": [
    {
     "data": {
      "text/plain": [
       "(('person_id', 'mediumint unsigned', 'NO', 'PRI', None, ''),\n",
       " ('first_name', 'varchar(50)', 'YES', '', None, ''),\n",
       " ('last_name', 'varchar(50)', 'YES', '', None, ''),\n",
       " ('age', 'tinyint unsigned', 'YES', '', None, ''),\n",
       " ('marital_status', 'tinyint(1)', 'YES', '', None, ''),\n",
       " ('country', 'varchar(75)', 'YES', '', None, ''),\n",
       " ('race', 'varchar(75)', 'YES', '', None, ''))"
      ]
     },
     "execution_count": 45,
     "metadata": {},
     "output_type": "execute_result"
    }
   ],
   "source": [
    "# ALTER TABLE pour ajouter ou supprimer une colonne dans notre bdd\n",
    "\n",
    "# ajout d'une colonne \"race\"\n",
    "cursor.execute(\"ALTER TABLE person ADD race VARCHAR(75);\")\n",
    "# visualisation de la table :\n",
    "cursor.execute(\"DESC person;\")\n",
    "cursor.fetchall()"
   ]
  },
  {
   "cell_type": "code",
   "execution_count": 46,
   "id": "4a0d2268",
   "metadata": {},
   "outputs": [
    {
     "data": {
      "text/plain": [
       "(('person_id', 'mediumint unsigned', 'NO', 'PRI', None, ''),\n",
       " ('first_name', 'varchar(50)', 'YES', '', None, ''),\n",
       " ('last_name', 'varchar(50)', 'YES', '', None, ''),\n",
       " ('age', 'tinyint unsigned', 'YES', '', None, ''),\n",
       " ('marital_status', 'tinyint(1)', 'YES', '', None, ''),\n",
       " ('country', 'varchar(75)', 'YES', '', None, ''))"
      ]
     },
     "execution_count": 46,
     "metadata": {},
     "output_type": "execute_result"
    }
   ],
   "source": [
    "# suppression de la colonne \"race\":\n",
    "cursor.execute(\"ALTER TABLE person DROP race;\")\n",
    "# visualisation de la table :\n",
    "cursor.execute(\"DESC person;\")\n",
    "cursor.fetchall()"
   ]
  },
  {
   "cell_type": "code",
   "execution_count": 49,
   "id": "7dacd3f0",
   "metadata": {},
   "outputs": [
    {
     "data": {
      "text/plain": [
       "(('person_id', 'mediumint unsigned', 'NO', 'PRI', None, ''),\n",
       " ('first_name', 'varchar(50)', 'YES', '', None, ''),\n",
       " ('last_name', 'varchar(75)', 'YES', '', None, ''),\n",
       " ('age', 'tinyint unsigned', 'YES', '', None, ''),\n",
       " ('marital_status', 'tinyint(1)', 'YES', '', None, ''),\n",
       " ('country', 'varchar(75)', 'YES', '', None, ''))"
      ]
     },
     "execution_count": 49,
     "metadata": {},
     "output_type": "execute_result"
    }
   ],
   "source": [
    "# on peut aussi utiliser ALTER TABLE pour modifier le datatype d'une colonne\n",
    "# ALTER TABLE table_name MODIFY COLUMN column_name new_data_type(size)\n",
    "# ATTENTION : le nouveau datatype doit être en conformité avec les données déjà entrées\n",
    "# la conversion des données doit être possible pour éviter des erreurs\n",
    "\n",
    "# on peut aussi utiliser la même syntaxe pour juste changer la taille du champs\n",
    "cursor.execute(\"ALTER TABLE person MODIFY COLUMN last_name VARCHAR(75);\")\n",
    "cursor.execute(\"DESC person;\")\n",
    "cursor.fetchall()"
   ]
  },
  {
   "cell_type": "code",
   "execution_count": 62,
   "id": "683b64d3",
   "metadata": {},
   "outputs": [
    {
     "data": {
      "text/plain": [
       "0"
      ]
     },
     "execution_count": 62,
     "metadata": {},
     "output_type": "execute_result"
    }
   ],
   "source": [
    "# Modifier l'ordre des colonnes :\n",
    "# on souhaite mettre la colonne marital_status juste après la colonne last_name :\n",
    "cursor.execute(\"ALTER TABLE person MODIFY marital_status TINYINT(1) AFTER last_name;\")"
   ]
  },
  {
   "cell_type": "code",
   "execution_count": 63,
   "id": "754435d2",
   "metadata": {},
   "outputs": [
    {
     "data": {
      "text/plain": [
       "(('person_id', 'mediumint unsigned', 'NO', 'PRI', None, ''),\n",
       " ('first_name', 'varchar(50)', 'YES', '', None, ''),\n",
       " ('last_name', 'varchar(75)', 'YES', '', None, ''),\n",
       " ('marital_status', 'tinyint(1)', 'YES', '', None, ''),\n",
       " ('age', 'tinyint unsigned', 'YES', '', None, ''),\n",
       " ('country', 'varchar(75)', 'YES', '', None, ''))"
      ]
     },
     "execution_count": 63,
     "metadata": {},
     "output_type": "execute_result"
    }
   ],
   "source": [
    "cursor.execute(\"DESC person;\")\n",
    "cursor.fetchall()"
   ]
  },
  {
   "cell_type": "code",
   "execution_count": 64,
   "id": "7772db30",
   "metadata": {},
   "outputs": [
    {
     "data": {
      "text/plain": [
       "(('last_name', 'varchar(75)', 'YES', '', None, ''),\n",
       " ('person_id', 'mediumint unsigned', 'NO', 'PRI', None, ''),\n",
       " ('first_name', 'varchar(50)', 'YES', '', None, ''),\n",
       " ('marital_status', 'tinyint(1)', 'YES', '', None, ''),\n",
       " ('age', 'tinyint unsigned', 'YES', '', None, ''),\n",
       " ('country', 'varchar(75)', 'YES', '', None, ''))"
      ]
     },
     "execution_count": 64,
     "metadata": {},
     "output_type": "execute_result"
    }
   ],
   "source": [
    "# si on veut placer une colonne en toute première position :\n",
    "# on veut que la colonne last_name soit en première position\n",
    "cursor.execute(\"ALTER TABLE person MODIFY last_name VARCHAR(75) FIRST;\")\n",
    "cursor.execute(\"DESC person;\")\n",
    "cursor.fetchall()"
   ]
  },
  {
   "cell_type": "code",
   "execution_count": 65,
   "id": "47a51aa7",
   "metadata": {},
   "outputs": [
    {
     "data": {
      "text/plain": [
       "0"
      ]
     },
     "execution_count": 65,
     "metadata": {},
     "output_type": "execute_result"
    }
   ],
   "source": [
    "# Renommer une table\n",
    "cursor.execute(\"ALTER TABLE person RENAME people;\")"
   ]
  },
  {
   "cell_type": "code",
   "execution_count": 67,
   "id": "744401c3",
   "metadata": {},
   "outputs": [
    {
     "data": {
      "text/plain": [
       "(('people',),)"
      ]
     },
     "execution_count": 67,
     "metadata": {},
     "output_type": "execute_result"
    }
   ],
   "source": [
    "cursor.execute(\"SHOW TABLES;\")\n",
    "cursor.fetchall()"
   ]
  },
  {
   "cell_type": "code",
   "execution_count": 68,
   "id": "7c7f1b7f",
   "metadata": {},
   "outputs": [
    {
     "data": {
      "text/plain": [
       "0"
      ]
     },
     "execution_count": 68,
     "metadata": {},
     "output_type": "execute_result"
    }
   ],
   "source": [
    "# on peut aussi renommer une table en utilisant RENAME TABLE TO:\n",
    "cursor.execute(\"RENAME TABLE people TO person;\")"
   ]
  },
  {
   "cell_type": "code",
   "execution_count": 69,
   "id": "7cb013f3",
   "metadata": {},
   "outputs": [
    {
     "data": {
      "text/plain": [
       "(('person',),)"
      ]
     },
     "execution_count": 69,
     "metadata": {},
     "output_type": "execute_result"
    }
   ],
   "source": [
    "cursor.execute(\"SHOW TABLES;\")\n",
    "cursor.fetchall()"
   ]
  },
  {
   "cell_type": "code",
   "execution_count": 35,
   "id": "c47c7488",
   "metadata": {},
   "outputs": [
    {
     "data": {
      "text/plain": [
       "1"
      ]
     },
     "execution_count": 35,
     "metadata": {},
     "output_type": "execute_result"
    }
   ],
   "source": [
    "# cursor.execute(\"DROP DATABASE testdb;\")"
   ]
  },
  {
   "cell_type": "markdown",
   "id": "7adfcff9",
   "metadata": {},
   "source": [
    "### EXERCICE : créer une bdd school et une table students"
   ]
  },
  {
   "cell_type": "code",
   "execution_count": 25,
   "id": "ed522604",
   "metadata": {},
   "outputs": [
    {
     "data": {
      "text/plain": [
       "1"
      ]
     },
     "execution_count": 25,
     "metadata": {},
     "output_type": "execute_result"
    }
   ],
   "source": [
    "cursor.execute(\"CREATE DATABASE IF NOT EXISTS school;\")"
   ]
  },
  {
   "cell_type": "code",
   "execution_count": 74,
   "id": "2e7e3e9a",
   "metadata": {},
   "outputs": [
    {
     "data": {
      "text/plain": [
       "0"
      ]
     },
     "execution_count": 74,
     "metadata": {},
     "output_type": "execute_result"
    }
   ],
   "source": [
    "cursor.execute(\"USE school;\")"
   ]
  },
  {
   "cell_type": "code",
   "execution_count": 27,
   "id": "3161a207",
   "metadata": {},
   "outputs": [],
   "source": [
    "student_table = '''CREATE TABLE IF NOT EXISTS students(\n",
    "student_id MEDIUMINT UNSIGNED,\n",
    "first_name VARCHAR(50),\n",
    "last_name VARCHAR(50),\n",
    "address TEXT,\n",
    "state CHAR(2),\n",
    "date_of_birth DATE,\n",
    "phone_number BIGINT,\n",
    "gender ENUM('male', 'female'),\n",
    "PRIMARY KEY(student_id)\n",
    ");'''"
   ]
  },
  {
   "cell_type": "code",
   "execution_count": 28,
   "id": "2af996bc",
   "metadata": {},
   "outputs": [
    {
     "data": {
      "text/plain": [
       "0"
      ]
     },
     "execution_count": 28,
     "metadata": {},
     "output_type": "execute_result"
    }
   ],
   "source": [
    "cursor.execute(student_table)"
   ]
  },
  {
   "cell_type": "code",
   "execution_count": 29,
   "id": "5a1d4c5f",
   "metadata": {},
   "outputs": [
    {
     "data": {
      "text/plain": [
       "(('student_id', 'mediumint unsigned', 'NO', 'PRI', None, ''),\n",
       " ('first_name', 'varchar(50)', 'YES', '', None, ''),\n",
       " ('last_name', 'varchar(50)', 'YES', '', None, ''),\n",
       " ('address', 'text', 'YES', '', None, ''),\n",
       " ('state', 'char(2)', 'YES', '', None, ''),\n",
       " ('date_of_birth', 'date', 'YES', '', None, ''),\n",
       " ('phone_number', 'bigint', 'YES', '', None, ''),\n",
       " ('gender', \"enum('male','female')\", 'YES', '', None, ''))"
      ]
     },
     "execution_count": 29,
     "metadata": {},
     "output_type": "execute_result"
    }
   ],
   "source": [
    "# vérification des colonnes datatypes de la table\n",
    "cursor.execute(\"DESC students;\")\n",
    "cursor.fetchall()"
   ]
  },
  {
   "cell_type": "code",
   "execution_count": 32,
   "id": "c945d77b",
   "metadata": {},
   "outputs": [
    {
     "data": {
      "text/plain": [
       "4"
      ]
     },
     "execution_count": 32,
     "metadata": {},
     "output_type": "execute_result"
    }
   ],
   "source": [
    "# vidage de la table en supprimant toute les données (réinitialisation)\n",
    "cursor.execute(\"DELETE FROM students;\")"
   ]
  },
  {
   "cell_type": "code",
   "execution_count": 33,
   "id": "9c8ccb63",
   "metadata": {},
   "outputs": [
    {
     "data": {
      "text/plain": [
       "4"
      ]
     },
     "execution_count": 33,
     "metadata": {},
     "output_type": "execute_result"
    }
   ],
   "source": [
    "# insérer 4 lignes d'étudiants dans la table\n",
    "mult_students = '''INSERT INTO students VALUES\n",
    "(1, \"Luke\", \"Perry\", '3 avenue of roses', \"AL\", \"1997-09-15\", 060503458564, \"male\"),\n",
    "(2, \"Mary\", \"Perry\", '3 avenue of roses', \"AL\", \"1999-04-21\", 060503748974, \"female\"),\n",
    "(3, \"George\", \"Kennedy\", '45 sunset boulevard avenue', \"CA\", \"1977-02-09\", 060868858564, \"male\"),\n",
    "(4, \"Lucy\", \"Jameson\", '745 5th avenue', \"NY\", \"2000-05-12\", 068977034564, \"female\");\n",
    "'''\n",
    "cursor.execute(mult_students)"
   ]
  },
  {
   "cell_type": "code",
   "execution_count": 34,
   "id": "ba0f7c22",
   "metadata": {},
   "outputs": [
    {
     "data": {
      "text/plain": [
       "(('foodly',),\n",
       " ('foodly2',),\n",
       " ('information_schema',),\n",
       " ('moviz',),\n",
       " ('moviz2',),\n",
       " ('mysql',),\n",
       " ('performance_schema',),\n",
       " ('school',),\n",
       " ('sys',),\n",
       " ('testdb',))"
      ]
     },
     "execution_count": 34,
     "metadata": {},
     "output_type": "execute_result"
    }
   ],
   "source": [
    "cursor.execute(\"SHOW DATABASES;\")\n",
    "cursor.fetchall()"
   ]
  },
  {
   "cell_type": "code",
   "execution_count": 35,
   "id": "885f9d90",
   "metadata": {},
   "outputs": [],
   "source": [
    "# cursor.execute(\"DROP TABLE students;\")"
   ]
  },
  {
   "cell_type": "code",
   "execution_count": 36,
   "id": "777a9289",
   "metadata": {},
   "outputs": [
    {
     "data": {
      "text/plain": [
       "1"
      ]
     },
     "execution_count": 36,
     "metadata": {},
     "output_type": "execute_result"
    }
   ],
   "source": [
    "update_student = \"UPDATE students SET address = '40 sunset boulevard avenue', state = 'NY' WHERE student_id = 3;\"\n",
    "cursor.execute(update_student)"
   ]
  },
  {
   "cell_type": "code",
   "execution_count": 37,
   "id": "91720807",
   "metadata": {},
   "outputs": [
    {
     "data": {
      "text/plain": [
       "((1,\n",
       "  'Luke',\n",
       "  'Perry',\n",
       "  '3 avenue of roses',\n",
       "  'AL',\n",
       "  datetime.date(1997, 9, 15),\n",
       "  60503458564,\n",
       "  'male'),\n",
       " (2,\n",
       "  'Mary',\n",
       "  'Perry',\n",
       "  '3 avenue of roses',\n",
       "  'AL',\n",
       "  datetime.date(1999, 4, 21),\n",
       "  60503748974,\n",
       "  'female'),\n",
       " (3,\n",
       "  'George',\n",
       "  'Kennedy',\n",
       "  '40 sunset boulevard avenue',\n",
       "  'NY',\n",
       "  datetime.date(1977, 2, 9),\n",
       "  60868858564,\n",
       "  'male'),\n",
       " (4,\n",
       "  'Lucy',\n",
       "  'Jameson',\n",
       "  '745 5th avenue',\n",
       "  'NY',\n",
       "  datetime.date(2000, 5, 12),\n",
       "  68977034564,\n",
       "  'female'))"
      ]
     },
     "execution_count": 37,
     "metadata": {},
     "output_type": "execute_result"
    }
   ],
   "source": [
    "requete = \"SELECT * FROM students;\"\n",
    "cursor.execute(requete)\n",
    "cursor.fetchall()"
   ]
  },
  {
   "cell_type": "code",
   "execution_count": 59,
   "id": "a7b89578",
   "metadata": {},
   "outputs": [
    {
     "data": {
      "text/plain": [
       "(('student_id', 'mediumint unsigned', 'NO', 'PRI', None, ''),\n",
       " ('first_name', 'varchar(50)', 'YES', '', None, ''),\n",
       " ('last_name', 'varchar(50)', 'YES', '', None, ''),\n",
       " ('address', 'text', 'YES', '', None, ''),\n",
       " ('state', 'char(2)', 'YES', '', None, ''),\n",
       " ('date_of_birth', 'date', 'YES', '', None, ''),\n",
       " ('phone_number', 'bigint', 'YES', '', None, ''),\n",
       " ('gender', \"enum('male','female')\", 'YES', '', None, ''),\n",
       " ('email_address', 'char(1)', 'YES', '', None, ''))"
      ]
     },
     "execution_count": 59,
     "metadata": {},
     "output_type": "execute_result"
    }
   ],
   "source": [
    "# Pour modifier une table (ajouter ou supprimer une colonne) on utilise la commande ALTER TABLE\n",
    "cursor.execute(\"ALTER TABLE students ADD email_address CHAR;\")\n",
    "cursor.execute(\"DESC students;\")\n",
    "cursor.fetchall()"
   ]
  },
  {
   "cell_type": "code",
   "execution_count": 60,
   "id": "ecc1917f",
   "metadata": {},
   "outputs": [
    {
     "data": {
      "text/plain": [
       "(('student_id', 'mediumint unsigned', 'NO', 'PRI', None, ''),\n",
       " ('first_name', 'varchar(50)', 'YES', '', None, ''),\n",
       " ('last_name', 'varchar(50)', 'YES', '', None, ''),\n",
       " ('address', 'text', 'YES', '', None, ''),\n",
       " ('state', 'char(2)', 'YES', '', None, ''),\n",
       " ('date_of_birth', 'date', 'YES', '', None, ''),\n",
       " ('phone_number', 'bigint', 'YES', '', None, ''),\n",
       " ('gender', \"enum('male','female')\", 'YES', '', None, ''),\n",
       " ('email_address', 'varchar(75)', 'YES', '', None, ''))"
      ]
     },
     "execution_count": 60,
     "metadata": {},
     "output_type": "execute_result"
    }
   ],
   "source": [
    "# modifier le datatype de la colonne email_address de CHAR à VARCHAR(75)\n",
    "cursor.execute(\"ALTER TABLE students MODIFY COLUMN email_address VARCHAR(75);\")\n",
    "cursor.execute(\"DESC students;\")\n",
    "cursor.fetchall()"
   ]
  },
  {
   "cell_type": "code",
   "execution_count": 71,
   "id": "24d384bd",
   "metadata": {},
   "outputs": [
    {
     "data": {
      "text/plain": [
       "(('email_address', 'varchar(75)', 'YES', '', None, ''),\n",
       " ('student_id', 'mediumint unsigned', 'NO', 'PRI', None, ''),\n",
       " ('first_name', 'varchar(50)', 'YES', '', None, ''),\n",
       " ('last_name', 'varchar(50)', 'YES', '', None, ''),\n",
       " ('address', 'text', 'YES', '', None, ''),\n",
       " ('state', 'char(2)', 'YES', '', None, ''),\n",
       " ('date_of_birth', 'date', 'YES', '', None, ''),\n",
       " ('phone_number', 'bigint', 'YES', '', None, ''),\n",
       " ('gender', \"enum('male','female')\", 'YES', '', None, ''))"
      ]
     },
     "execution_count": 71,
     "metadata": {},
     "output_type": "execute_result"
    }
   ],
   "source": [
    "# mettre la colonne email_address en première position\n",
    "cursor.execute(\"ALTER TABLE students MODIFY email_address VARCHAR(75) FIRST;\")\n",
    "cursor.execute(\"DESC students;\")\n",
    "cursor.fetchall()"
   ]
  },
  {
   "cell_type": "code",
   "execution_count": 73,
   "id": "5138e229",
   "metadata": {},
   "outputs": [
    {
     "data": {
      "text/plain": [
       "(('email_address', 'varchar(75)', 'YES', '', None, ''),\n",
       " ('student_id', 'mediumint unsigned', 'NO', 'PRI', None, ''),\n",
       " ('first_name', 'varchar(50)', 'YES', '', None, ''),\n",
       " ('last_name', 'varchar(50)', 'YES', '', None, ''),\n",
       " ('date_of_birth', 'date', 'YES', '', None, ''),\n",
       " ('state', 'char(2)', 'YES', '', None, ''),\n",
       " ('address', 'text', 'YES', '', None, ''),\n",
       " ('phone_number', 'bigint', 'YES', '', None, ''),\n",
       " ('gender', \"enum('male','female')\", 'YES', '', None, ''))"
      ]
     },
     "execution_count": 73,
     "metadata": {},
     "output_type": "execute_result"
    }
   ],
   "source": [
    "# mettre la colonne date_of_birth après la colonne last_name\n",
    "cursor.execute(\"ALTER TABLE students MODIFY date_of_birth DATE AFTER last_name;\")\n",
    "cursor.execute(\"DESC students;\")\n",
    "cursor.fetchall()"
   ]
  },
  {
   "cell_type": "code",
   "execution_count": 75,
   "id": "7e9e387e",
   "metadata": {},
   "outputs": [
    {
     "data": {
      "text/plain": [
       "0"
      ]
     },
     "execution_count": 75,
     "metadata": {},
     "output_type": "execute_result"
    }
   ],
   "source": [
    "# renommage de la colonne email_address en email\n",
    "cursor.execute(\"ALTER TABLE students RENAME COLUMN email_address TO email;\")"
   ]
  },
  {
   "cell_type": "code",
   "execution_count": 76,
   "id": "b28c4f80",
   "metadata": {},
   "outputs": [
    {
     "data": {
      "text/plain": [
       "(('email', 'varchar(75)', 'YES', '', None, ''),\n",
       " ('student_id', 'mediumint unsigned', 'NO', 'PRI', None, ''),\n",
       " ('first_name', 'varchar(50)', 'YES', '', None, ''),\n",
       " ('last_name', 'varchar(50)', 'YES', '', None, ''),\n",
       " ('date_of_birth', 'date', 'YES', '', None, ''),\n",
       " ('state', 'char(2)', 'YES', '', None, ''),\n",
       " ('address', 'text', 'YES', '', None, ''),\n",
       " ('phone_number', 'bigint', 'YES', '', None, ''),\n",
       " ('gender', \"enum('male','female')\", 'YES', '', None, ''))"
      ]
     },
     "execution_count": 76,
     "metadata": {},
     "output_type": "execute_result"
    }
   ],
   "source": [
    "cursor.execute(\"DESC students;\")\n",
    "cursor.fetchall()"
   ]
  },
  {
   "cell_type": "code",
   "execution_count": 77,
   "id": "279a995b",
   "metadata": {},
   "outputs": [
    {
     "data": {
      "text/plain": [
       "0"
      ]
     },
     "execution_count": 77,
     "metadata": {},
     "output_type": "execute_result"
    }
   ],
   "source": [
    "# suppression de la colonne email\n",
    "cursor.execute(\"ALTER TABLE students DROP email;\")"
   ]
  },
  {
   "cell_type": "code",
   "execution_count": 78,
   "id": "39123488",
   "metadata": {},
   "outputs": [
    {
     "data": {
      "text/plain": [
       "(('student_id', 'mediumint unsigned', 'NO', 'PRI', None, ''),\n",
       " ('first_name', 'varchar(50)', 'YES', '', None, ''),\n",
       " ('last_name', 'varchar(50)', 'YES', '', None, ''),\n",
       " ('date_of_birth', 'date', 'YES', '', None, ''),\n",
       " ('state', 'char(2)', 'YES', '', None, ''),\n",
       " ('address', 'text', 'YES', '', None, ''),\n",
       " ('phone_number', 'bigint', 'YES', '', None, ''),\n",
       " ('gender', \"enum('male','female')\", 'YES', '', None, ''))"
      ]
     },
     "execution_count": 78,
     "metadata": {},
     "output_type": "execute_result"
    }
   ],
   "source": [
    "cursor.execute(\"DESC students;\")\n",
    "cursor.fetchall()"
   ]
  },
  {
   "cell_type": "markdown",
   "id": "3c523f02",
   "metadata": {},
   "source": [
    "**FIN DE L'EXERCICE**"
   ]
  },
  {
   "cell_type": "markdown",
   "id": "e65874ce",
   "metadata": {},
   "source": [
    "### Constraints"
   ]
  },
  {
   "cell_type": "code",
   "execution_count": 19,
   "id": "8b3f3029",
   "metadata": {},
   "outputs": [
    {
     "data": {
      "text/plain": [
       "(('country_id', 'mediumint unsigned', 'NO', 'PRI', None, 'auto_increment'),\n",
       " ('country_name', 'varchar(75)', 'YES', '', None, ''))"
      ]
     },
     "execution_count": 19,
     "metadata": {},
     "output_type": "execute_result"
    }
   ],
   "source": [
    "# création d'une nouvelle table country_table dans la bdd test:\n",
    "country_table = '''CREATE TABLE IF NOT EXISTS country(\n",
    "country_id MEDIUMINT UNSIGNED AUTO_INCREMENT,\n",
    "country_name VARCHAR(75),\n",
    "PRIMARY KEY(country_id)\n",
    ");'''\n",
    "\n",
    "cursor.execute(country_table)\n",
    "\n",
    "cursor.execute(\"DESC country;\")\n",
    "cursor.fetchall()\n",
    "\n",
    "# ici on n'a désigné qu'une seule colonne en tant que PK (country_id). Si on avait voulu désigner plusieurs\n",
    "# colonnes dans la primary key, on aurait fait : PRIMARY KEY(col_id1, col_id2, col_id3)"
   ]
  },
  {
   "cell_type": "code",
   "execution_count": 15,
   "id": "297ce420",
   "metadata": {},
   "outputs": [
    {
     "data": {
      "text/plain": [
       "0"
      ]
     },
     "execution_count": 15,
     "metadata": {},
     "output_type": "execute_result"
    }
   ],
   "source": [
    "# si on veut modifier la table précédente afin que les country_id en AUTO_INCREMENT ne commence qu'à partir de 100 :\n",
    "cursor.execute(\"ALTER TABLE country AUTO_INCREMENT = 100;\")"
   ]
  },
  {
   "cell_type": "code",
   "execution_count": null,
   "id": "4653bf18",
   "metadata": {},
   "outputs": [],
   "source": [
    "# on peut aussi ajouter une primary key à une table existante:\n",
    "# 1) on supprime la PK existante :\n",
    "# cursor.execute(\"ALTER TABLE person DROP PRIMARY KEY;\")\n",
    "# 2) on crée la nouvelle OPK :\n",
    "# cursor.execute(\"ALTER TABLE person ADD PRIMARY KEY(person_id);\")"
   ]
  },
  {
   "cell_type": "code",
   "execution_count": 20,
   "id": "9d15c2e7",
   "metadata": {},
   "outputs": [
    {
     "data": {
      "text/plain": [
       "0"
      ]
     },
     "execution_count": 20,
     "metadata": {},
     "output_type": "execute_result"
    }
   ],
   "source": [
    "grades_table = '''CREATE TABLE grades(\n",
    "grade_id INT UNSIGNED AUTO_INCREMENT,\n",
    "student_id MEDIUMINT UNSIGNED,\n",
    "course_id TINYINT UNSIGNED,\n",
    "grades TINYINT UNSIGNED,\n",
    "PRIMARY KEY(grade_id)\n",
    ")'''\n",
    "\n",
    "cursor.execute(grades_table)"
   ]
  },
  {
   "cell_type": "code",
   "execution_count": 22,
   "id": "e427201a",
   "metadata": {},
   "outputs": [
    {
     "data": {
      "text/plain": [
       "(('grade_id', 'int unsigned', 'NO', 'PRI', None, 'auto_increment'),\n",
       " ('student_id', 'mediumint unsigned', 'YES', '', None, ''),\n",
       " ('course_id', 'tinyint unsigned', 'YES', '', None, ''),\n",
       " ('grades', 'tinyint unsigned', 'YES', '', None, ''))"
      ]
     },
     "execution_count": 22,
     "metadata": {},
     "output_type": "execute_result"
    }
   ],
   "source": [
    "cursor.execute(\"DESC grades;\")\n",
    "cursor.fetchall()"
   ]
  },
  {
   "cell_type": "code",
   "execution_count": 18,
   "id": "b4f6332e",
   "metadata": {},
   "outputs": [],
   "source": [
    "# ATTENTION ! Toujours penser à fermer la connexion pour des questions de sécurité et de performances du serveur\n",
    "\n",
    "conn.close()"
   ]
  },
  {
   "cell_type": "code",
   "execution_count": null,
   "id": "20ac78cb",
   "metadata": {},
   "outputs": [],
   "source": []
  },
  {
   "cell_type": "code",
   "execution_count": null,
   "id": "fa1c8c4c",
   "metadata": {},
   "outputs": [],
   "source": []
  },
  {
   "cell_type": "code",
   "execution_count": null,
   "id": "325fe268",
   "metadata": {},
   "outputs": [],
   "source": []
  }
 ],
 "metadata": {
  "kernelspec": {
   "display_name": "Python 3 (ipykernel)",
   "language": "python",
   "name": "python3"
  },
  "language_info": {
   "codemirror_mode": {
    "name": "ipython",
    "version": 3
   },
   "file_extension": ".py",
   "mimetype": "text/x-python",
   "name": "python",
   "nbconvert_exporter": "python",
   "pygments_lexer": "ipython3",
   "version": "3.10.12"
  }
 },
 "nbformat": 4,
 "nbformat_minor": 5
}
